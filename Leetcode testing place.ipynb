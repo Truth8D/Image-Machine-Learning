{
 "cells": [
  {
   "cell_type": "code",
   "execution_count": 11,
   "metadata": {},
   "outputs": [
    {
     "data": {
      "text/plain": [
       "-1"
      ]
     },
     "execution_count": 11,
     "metadata": {},
     "output_type": "execute_result"
    }
   ],
   "source": []
  },
  {
   "cell_type": "code",
   "execution_count": 10,
   "metadata": {},
   "outputs": [
    {
     "name": "stdout",
     "output_type": "stream",
     "text": [
      "8\n",
      "8\n",
      "5\n",
      "-1\n"
     ]
    }
   ],
   "source": [
    "#this code times out. so the actual solution we jump from index to index\n",
    "class RLEIterator:\n",
    "\n",
    "    def __init__(self, A):\n",
    "        \"\"\"\n",
    "        :type A: List[int]\n",
    "        \"\"\"\n",
    "        self.our_RLE_array=[]\n",
    "        A_even = A[0::2]\n",
    "        A_odd = A[1::2]\n",
    "        for index, number_of in enumerate(A_even):\n",
    "            for x in range(number_of):\n",
    "                self.our_RLE_array.append(A_odd[index])\n",
    "    def next(self, n):\n",
    "        \"\"\"\n",
    "        :type n: int\n",
    "        :rtype: int\n",
    "        \"\"\"\n",
    "        del self.our_RLE_array[0:n-1]\n",
    "        try: return self.our_RLE_array.pop(0)\n",
    "        except: return -1\n",
    "        \n",
    "\n",
    "# Your RLEIterator object will be instantiated and called as such:\n",
    "obj = RLEIterator([3,8,0,9,2,5])\n",
    "#obj.our_RLE_array\n",
    "print(obj.next(2))\n",
    "print(obj.next(1))\n",
    "print(obj.next(1))\n",
    "print(obj.next(2))"
   ]
  },
  {
   "cell_type": "code",
   "execution_count": 48,
   "metadata": {},
   "outputs": [
    {
     "name": "stdout",
     "output_type": "stream",
     "text": [
      "dp[0]: ['']\n",
      "1\n",
      "j = pairs inside =0\n",
      "i-j-1 =pairs outside =0\n",
      "['()']\n",
      "dp[1]: ['()']\n",
      "2\n",
      "j = pairs inside =0\n",
      "i-j-1 =pairs outside =1\n",
      "['()()']\n",
      "2\n",
      "j = pairs inside =1\n",
      "i-j-1 =pairs outside =0\n",
      "['(())']\n",
      "dp[2]: ['()()', '(())']\n",
      "3\n",
      "j = pairs inside =0\n",
      "i-j-1 =pairs outside =2\n",
      "['()()()', '()(())']\n",
      "3\n",
      "j = pairs inside =1\n",
      "i-j-1 =pairs outside =1\n",
      "['(())()']\n",
      "3\n",
      "j = pairs inside =2\n",
      "i-j-1 =pairs outside =0\n",
      "['(()())', '((()))']\n",
      "dp[3]: ['()()()', '()(())', '(())()', '(()())', '((()))']\n"
     ]
    }
   ],
   "source": [
    "n=3\n",
    "dp = [[] for i in range(n + 1)]\n",
    "dp[0].append('')\n",
    "for i in range(n + 1):\n",
    "    for j in range(i):\n",
    "        print(i)\n",
    "        print('j = pairs inside ='+str(j))\n",
    "        print('i-j-1 =pairs outside ='+str(i - j - 1))\n",
    "        dp[i] += ['(' + x + ')' + y for x in dp[j] for y in dp[i - j - 1]]\n",
    "        print(str(['(' + x + ')' + y for x in dp[j] for y in dp[i - j - 1]]))\n",
    "    print(\"dp[\"+str(i)+\"]: \"+str(dp[i]))\n",
    "    \n",
    "    \n",
    "    \n",
    "    "
   ]
  },
  {
   "cell_type": "code",
   "execution_count": null,
   "metadata": {},
   "outputs": [],
   "source": []
  }
 ],
 "metadata": {
  "kernelspec": {
   "display_name": "Python 3",
   "language": "python",
   "name": "python3"
  },
  "language_info": {
   "codemirror_mode": {
    "name": "ipython",
    "version": 3
   },
   "file_extension": ".py",
   "mimetype": "text/x-python",
   "name": "python",
   "nbconvert_exporter": "python",
   "pygments_lexer": "ipython3",
   "version": "3.6.6"
  }
 },
 "nbformat": 4,
 "nbformat_minor": 2
}
